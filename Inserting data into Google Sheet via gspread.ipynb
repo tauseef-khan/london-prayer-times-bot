{
 "cells": [
  {
   "cell_type": "code",
   "execution_count": 19,
   "metadata": {
    "collapsed": true
   },
   "outputs": [],
   "source": [
    "import gspread\n",
    "from oauth2client.service_account import ServiceAccountCredentials"
   ]
  },
  {
   "cell_type": "code",
   "execution_count": 2,
   "metadata": {
    "collapsed": false
   },
   "outputs": [],
   "source": [
    "scope = ['https://spreadsheets.google.com/feeds']\n",
    "\n",
    "credentials = ServiceAccountCredentials.from_json_keyfile_name('CF Data Extraction-ed446c061ae6.json', scope)"
   ]
  },
  {
   "cell_type": "code",
   "execution_count": 12,
   "metadata": {
    "collapsed": true
   },
   "outputs": [],
   "source": [
    "gc2 = gspread.authorize(credentials)"
   ]
  },
  {
   "cell_type": "code",
   "execution_count": 18,
   "metadata": {
    "collapsed": false
   },
   "outputs": [],
   "source": [
    "# Open a worksheet from spreadsheet with one shot\n",
    "wks = gc2.open('test')\n",
    "#worksheet = wks.sheet1"
   ]
  },
  {
   "cell_type": "code",
   "execution_count": 21,
   "metadata": {
    "collapsed": true
   },
   "outputs": [],
   "source": [
    "worksheet = wks.worksheet(\"Sheet2\")"
   ]
  },
  {
   "cell_type": "code",
   "execution_count": 22,
   "metadata": {
    "collapsed": false
   },
   "outputs": [],
   "source": [
    "worksheet.update_acell('B2', \"Hello World!\")"
   ]
  },
  {
   "cell_type": "code",
   "execution_count": 23,
   "metadata": {
    "collapsed": false
   },
   "outputs": [],
   "source": [
    "# Fetch a cell range\n",
    "cell_list = worksheet.range('A1:B7')"
   ]
  },
  {
   "cell_type": "code",
   "execution_count": 24,
   "metadata": {
    "collapsed": false
   },
   "outputs": [
    {
     "name": "stdout",
     "output_type": "stream",
     "text": [
      "[<Cell R1C1 ''>, <Cell R1C2 ''>, <Cell R2C1 ''>, <Cell R2C2 'Hello World!'>, <Cell R3C1 ''>, <Cell R3C2 ''>, <Cell R4C1 ''>, <Cell R4C2 ''>, <Cell R5C1 ''>, <Cell R5C2 ''>, <Cell R6C1 ''>, <Cell R6C2 ''>, <Cell R7C1 ''>, <Cell R7C2 ''>]\n"
     ]
    }
   ],
   "source": [
    "print(cell_list)"
   ]
  },
  {
   "cell_type": "code",
   "execution_count": 30,
   "metadata": {
    "collapsed": true
   },
   "outputs": [],
   "source": [
    "values_list = worksheet.row_values(2)"
   ]
  },
  {
   "cell_type": "code",
   "execution_count": 31,
   "metadata": {
    "collapsed": false
   },
   "outputs": [
    {
     "name": "stdout",
     "output_type": "stream",
     "text": [
      "['', 'Hello World!', '', '', '', '', '', '', '', '', '', '', '', '', '', '', '', '', '', '', '', '', '', '', '', '']\n"
     ]
    }
   ],
   "source": [
    "print(values_list)"
   ]
  },
  {
   "cell_type": "code",
   "execution_count": 32,
   "metadata": {
    "collapsed": false
   },
   "outputs": [
    {
     "data": {
      "text/plain": [
       "list"
      ]
     },
     "execution_count": 32,
     "metadata": {},
     "output_type": "execute_result"
    }
   ],
   "source": [
    "type(values_list)"
   ]
  },
  {
   "cell_type": "code",
   "execution_count": 46,
   "metadata": {
    "collapsed": true
   },
   "outputs": [],
   "source": [
    "a = values_list[1]"
   ]
  },
  {
   "cell_type": "code",
   "execution_count": 47,
   "metadata": {
    "collapsed": false
   },
   "outputs": [
    {
     "name": "stdout",
     "output_type": "stream",
     "text": [
      "Hello World!\n"
     ]
    }
   ],
   "source": [
    "print(a)"
   ]
  },
  {
   "cell_type": "markdown",
   "metadata": {},
   "source": [
    "# Bot Work"
   ]
  },
  {
   "cell_type": "code",
   "execution_count": 16,
   "metadata": {
    "collapsed": false
   },
   "outputs": [
    {
     "name": "stdout",
     "output_type": "stream",
     "text": [
      "20\n"
     ]
    }
   ],
   "source": [
    "import datetime\n",
    "now = datetime.datetime.now()\n",
    "\n",
    "print (now.day)"
   ]
  },
  {
   "cell_type": "code",
   "execution_count": 28,
   "metadata": {
    "collapsed": false
   },
   "outputs": [],
   "source": [
    "day = 20\n",
    "dayCell = str(day + 2)\n",
    "cellRange = 'B' + dayCell + \":\" + \"M\" + dayCell"
   ]
  },
  {
   "cell_type": "code",
   "execution_count": 29,
   "metadata": {
    "collapsed": false
   },
   "outputs": [
    {
     "name": "stdout",
     "output_type": "stream",
     "text": [
      "B22:M22\n"
     ]
    }
   ],
   "source": [
    "print(cellRange)"
   ]
  },
  {
   "cell_type": "code",
   "execution_count": null,
   "metadata": {
    "collapsed": true
   },
   "outputs": [],
   "source": [
    "msg = \"Prayer Times for today are:\" + \"\\n\" +\n",
    "    \"Fajr Begins - \" + times[1] + \"\\n\" +\n",
    "    \"Fajr Jama'ah - \" + times[2] + \"\\n\" +\n",
    "    \"Sunrise - \" + times[3] + \"\\n\" +\n",
    "    \"Zuhr Begins - \" + times[4] + \"\\n\" +\n",
    "    \"Zuhr Jama'ah - \" + times[5] + \"\\n\" +\n",
    "    \"Asr Mithl 1 - \" + times[6] + \"\\n\" +\n",
    "    \"Asr Mithl 2 - \" + times[7] + \"\\n\" +\n",
    "    \"Asr Jama'ah - \" + times[8] + \"\\n\" +\n",
    "    \"Magrib Begins - \" + times[9] + \"\\n\" +\n",
    "    \"Maghrib Jama'ah - \" times[10] + \"\\n\" +\n",
    "    \"Isha Begins - \" + times[11] + \"\\n\" +\n",
    "    \"Isha Jama'ah - \" + times[12]"
   ]
  },
  {
   "cell_type": "code",
   "execution_count": 56,
   "metadata": {
    "collapsed": false
   },
   "outputs": [],
   "source": [
    "times =  [\"1\", \"2\", \"3\",\"4\", \"5\", \"6\",\"7\", \"8\", \"9\",\"10\", \"11\", \"12\", ]"
   ]
  },
  {
   "cell_type": "code",
   "execution_count": 59,
   "metadata": {
    "collapsed": false
   },
   "outputs": [],
   "source": [
    "intro = \"Prayer Times for today are:\" + \"\\n\"\n",
    "\n",
    "fajr_begins = \"Fajr Begins - \" + times[0] + \"\\n\"\n",
    "fajr_jamaah = \"Fajr Jama'ah - \" + times[1] + \"\\n\"\n",
    "\n",
    "sunrise = \"Sunrise - \" + times[3] + \"\\n\"\n",
    "\n",
    "zuhr_begins = \"Zuhr Begins - \" + times[2] + \"\\n\"\n",
    "zuhr_jamaah = \"Zuhr Jama'ah - \" + times[3] + \"\\n\"\n",
    "\n",
    "asr_mithl1 = \"Asr Mithl 1 - \" + times[4] + \"\\n\"\n",
    "asr_mithl2 = \"Asr Mithl 2 - \" + times[5] + \"\\n\"\n",
    "asr_jamaah = \"Asr Jama'ah - \" + times[6] + \"\\n\"\n",
    "\n",
    "maghrib_begins = \"Maghrib Begins - \" + times[7] + \"\\n\"\n",
    "maghrib_jamaah = \"Maghrib Jama'ah - \" +  times[8] + \"\\n\"\n",
    "\n",
    "isha_begins = \"Isha Begins - \" + times[9] + \"\\n\"\n",
    "isha_jamaah = \"Isha Jama'ah - \" + times[10]\n",
    "\n",
    "msg = intro + fajr_begins + fajr_jamaah + sunrise + zuhr_begins + zuhr_jamaah + asr_mithl1 + asr_mithl2 + asr_jamaah + maghrib_begins + maghrib_jamaah + isha_begins + isha_jamaah"
   ]
  },
  {
   "cell_type": "code",
   "execution_count": 60,
   "metadata": {
    "collapsed": false
   },
   "outputs": [
    {
     "name": "stdout",
     "output_type": "stream",
     "text": [
      "Prayer Times for today are:\n",
      "Fajr Begins - 1\n",
      "Fajr Jama'ah - 2\n",
      "Sunrise - 4\n",
      "Zuhr Begins - 3\n",
      "Zuhr Jama'ah - 4\n",
      "Asr Mithl 1 - 5\n",
      "Asr Mithl 2 - 6\n",
      "Asr Jama'ah - 7\n",
      "Maghrib Begins - 8\n",
      "Maghrib Jama'ah - 9\n",
      "Isha Begins - 10\n",
      "Isha Jama'ah - 11\n"
     ]
    }
   ],
   "source": [
    "print(msg)"
   ]
  }
 ],
 "metadata": {
  "kernelspec": {
   "display_name": "Python 3",
   "language": "python",
   "name": "python3"
  },
  "language_info": {
   "codemirror_mode": {
    "name": "ipython",
    "version": 3
   },
   "file_extension": ".py",
   "mimetype": "text/x-python",
   "name": "python",
   "nbconvert_exporter": "python",
   "pygments_lexer": "ipython3",
   "version": "3.5.3"
  }
 },
 "nbformat": 4,
 "nbformat_minor": 0
}
